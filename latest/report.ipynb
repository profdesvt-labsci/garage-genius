{
 "cells": [
  {
   "cell_type": "markdown",
   "id": "b8724ac8",
   "metadata": {
    "papermill": {
     "duration": 0.00154,
     "end_time": "2025-08-30T15:06:49.315531",
     "exception": false,
     "start_time": "2025-08-30T15:06:49.313991",
     "status": "completed"
    },
    "tags": []
   },
   "source": [
    "# Backtest_V10_4Univers — gabarit minimal\n",
    "Ce notebook est converti en .ipynb par Jupytext, puis exécuté par Papermill."
   ]
  },
  {
   "cell_type": "code",
   "execution_count": 1,
   "id": "0e66ad24",
   "metadata": {
    "execution": {
     "iopub.execute_input": "2025-08-30T15:06:49.318710Z",
     "iopub.status.busy": "2025-08-30T15:06:49.318489Z",
     "iopub.status.idle": "2025-08-30T15:06:49.323804Z",
     "shell.execute_reply": "2025-08-30T15:06:49.323377Z"
    },
    "papermill": {
     "duration": 0.007955,
     "end_time": "2025-08-30T15:06:49.324665",
     "exception": false,
     "start_time": "2025-08-30T15:06:49.316710",
     "status": "completed"
    },
    "tags": [
     "parameters"
    ]
   },
   "outputs": [],
   "source": [
    "EXECUTION_DAY = \"first_business_day\"  # ou \"last_business_day\"\n",
    "DEPUIS = \"2014-01\"\n",
    "JUSQUA = \"2025-12\""
   ]
  },
  {
   "cell_type": "code",
   "execution_count": 2,
   "id": "80db34b4",
   "metadata": {
    "execution": {
     "iopub.execute_input": "2025-08-30T15:06:49.327216Z",
     "iopub.status.busy": "2025-08-30T15:06:49.327065Z",
     "iopub.status.idle": "2025-08-30T15:06:49.329420Z",
     "shell.execute_reply": "2025-08-30T15:06:49.328989Z"
    },
    "papermill": {
     "duration": 0.004607,
     "end_time": "2025-08-30T15:06:49.330256",
     "exception": false,
     "start_time": "2025-08-30T15:06:49.325649",
     "status": "completed"
    },
    "tags": [
     "injected-parameters"
    ]
   },
   "outputs": [],
   "source": [
    "# Parameters\n",
    "EXECUTION_DAY = \"first_business_day\"\n",
    "DEPUIS = \"2014-01\"\n",
    "JUSQUA = \"2025-08\"\n"
   ]
  },
  {
   "cell_type": "code",
   "execution_count": 3,
   "id": "b3b8eb7f",
   "metadata": {
    "execution": {
     "iopub.execute_input": "2025-08-30T15:06:49.332795Z",
     "iopub.status.busy": "2025-08-30T15:06:49.332645Z",
     "iopub.status.idle": "2025-08-30T15:06:49.335303Z",
     "shell.execute_reply": "2025-08-30T15:06:49.334865Z"
    },
    "papermill": {
     "duration": 0.004886,
     "end_time": "2025-08-30T15:06:49.336132",
     "exception": false,
     "start_time": "2025-08-30T15:06:49.331246",
     "status": "completed"
    },
    "tags": []
   },
   "outputs": [
    {
     "name": "stdout",
     "output_type": "stream",
     "text": [
      "Paramètres: first_business_day 2014-01 2025-08\n"
     ]
    }
   ],
   "source": [
    "print(\"Paramètres:\", EXECUTION_DAY, DEPUIS, JUSQUA)"
   ]
  },
  {
   "cell_type": "markdown",
   "id": "48d63190",
   "metadata": {
    "papermill": {
     "duration": 0.00107,
     "end_time": "2025-08-30T15:06:49.338312",
     "exception": false,
     "start_time": "2025-08-30T15:06:49.337242",
     "status": "completed"
    },
    "tags": []
   },
   "source": [
    "## Calcul très minimal (fumée)\n",
    "Ici on mettra les imports réels, le chargement des données, etc."
   ]
  },
  {
   "cell_type": "code",
   "execution_count": 4,
   "id": "e0860ba7",
   "metadata": {
    "execution": {
     "iopub.execute_input": "2025-08-30T15:06:49.341136Z",
     "iopub.status.busy": "2025-08-30T15:06:49.340933Z",
     "iopub.status.idle": "2025-08-30T15:06:49.585108Z",
     "shell.execute_reply": "2025-08-30T15:06:49.584492Z"
    },
    "papermill": {
     "duration": 0.246666,
     "end_time": "2025-08-30T15:06:49.586080",
     "exception": false,
     "start_time": "2025-08-30T15:06:49.339414",
     "status": "completed"
    },
    "tags": []
   },
   "outputs": [
    {
     "name": "stdout",
     "output_type": "stream",
     "text": [
      "CSV d'ordres écrit: out/orders_2025-08.csv\n"
     ]
    }
   ],
   "source": [
    "import os, pandas as pd\n",
    "os.makedirs(\"out\", exist_ok=True)\n",
    "pd.DataFrame({\"ordre\": [\"EXEMPLE\"], \"montant\": [800]}).to_csv(f\"out/orders_{JUSQUA}.csv\", index=False)\n",
    "print(\"CSV d'ordres écrit:\", f\"out/orders_{JUSQUA}.csv\")"
   ]
  }
 ],
 "metadata": {
  "kernelspec": {
   "display_name": "Python 3",
   "language": "python",
   "name": "python3"
  },
  "language_info": {
   "codemirror_mode": {
    "name": "ipython",
    "version": 3
   },
   "file_extension": ".py",
   "mimetype": "text/x-python",
   "name": "python",
   "nbconvert_exporter": "python",
   "pygments_lexer": "ipython3",
   "version": "3.11.13"
  },
  "papermill": {
   "default_parameters": {},
   "duration": 1.816044,
   "end_time": "2025-08-30T15:06:49.802065",
   "environment_variables": {},
   "exception": null,
   "input_path": "notebooks/Backtest_V10_4Univers.ipynb",
   "output_path": "out/out.ipynb",
   "parameters": {
    "DEPUIS": "2014-01",
    "EXECUTION_DAY": "first_business_day",
    "JUSQUA": "2025-08"
   },
   "start_time": "2025-08-30T15:06:47.986021",
   "version": "2.6.0"
  }
 },
 "nbformat": 4,
 "nbformat_minor": 5
}