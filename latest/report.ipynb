{
 "cells": [
  {
   "cell_type": "markdown",
   "id": "a034f0ca",
   "metadata": {
    "papermill": {
     "duration": 0.001497,
     "end_time": "2025-09-01T06:56:28.709076",
     "exception": false,
     "start_time": "2025-09-01T06:56:28.707579",
     "status": "completed"
    },
    "tags": []
   },
   "source": [
    "# Backtest_V10_4Univers — gabarit minimal\n",
    "Ce notebook est converti en .ipynb par Jupytext, puis exécuté par Papermill."
   ]
  },
  {
   "cell_type": "code",
   "execution_count": 1,
   "id": "28b11681",
   "metadata": {
    "execution": {
     "iopub.execute_input": "2025-09-01T06:56:28.712236Z",
     "iopub.status.busy": "2025-09-01T06:56:28.712013Z",
     "iopub.status.idle": "2025-09-01T06:56:28.717449Z",
     "shell.execute_reply": "2025-09-01T06:56:28.716873Z"
    },
    "papermill": {
     "duration": 0.00818,
     "end_time": "2025-09-01T06:56:28.718448",
     "exception": false,
     "start_time": "2025-09-01T06:56:28.710268",
     "status": "completed"
    },
    "tags": [
     "parameters"
    ]
   },
   "outputs": [],
   "source": [
    "EXECUTION_DAY = \"first_business_day\"  # ou \"last_business_day\"\n",
    "DEPUIS = \"2014-01\"\n",
    "JUSQUA = \"2025-12\""
   ]
  },
  {
   "cell_type": "code",
   "execution_count": 2,
   "id": "51bb11a9",
   "metadata": {
    "execution": {
     "iopub.execute_input": "2025-09-01T06:56:28.721207Z",
     "iopub.status.busy": "2025-09-01T06:56:28.721031Z",
     "iopub.status.idle": "2025-09-01T06:56:28.723747Z",
     "shell.execute_reply": "2025-09-01T06:56:28.723192Z"
    },
    "papermill": {
     "duration": 0.005102,
     "end_time": "2025-09-01T06:56:28.724601",
     "exception": false,
     "start_time": "2025-09-01T06:56:28.719499",
     "status": "completed"
    },
    "tags": [
     "injected-parameters"
    ]
   },
   "outputs": [],
   "source": [
    "# Parameters\n",
    "EXECUTION_DAY = \"first_business_day\"\n",
    "DEPUIS = \"2014-01\"\n",
    "JUSQUA = \"2025-09\"\n"
   ]
  },
  {
   "cell_type": "code",
   "execution_count": 3,
   "id": "4f9af9e4",
   "metadata": {
    "execution": {
     "iopub.execute_input": "2025-09-01T06:56:28.727300Z",
     "iopub.status.busy": "2025-09-01T06:56:28.727135Z",
     "iopub.status.idle": "2025-09-01T06:56:28.730477Z",
     "shell.execute_reply": "2025-09-01T06:56:28.730021Z"
    },
    "papermill": {
     "duration": 0.005663,
     "end_time": "2025-09-01T06:56:28.731322",
     "exception": false,
     "start_time": "2025-09-01T06:56:28.725659",
     "status": "completed"
    },
    "tags": []
   },
   "outputs": [
    {
     "name": "stdout",
     "output_type": "stream",
     "text": [
      "Paramètres: first_business_day 2014-01 2025-09\n"
     ]
    }
   ],
   "source": [
    "print(\"Paramètres:\", EXECUTION_DAY, DEPUIS, JUSQUA)"
   ]
  },
  {
   "cell_type": "markdown",
   "id": "e55e6964",
   "metadata": {
    "papermill": {
     "duration": 0.001061,
     "end_time": "2025-09-01T06:56:28.733531",
     "exception": false,
     "start_time": "2025-09-01T06:56:28.732470",
     "status": "completed"
    },
    "tags": []
   },
   "source": [
    "## Calcul très minimal (fumée)\n",
    "Ici on mettra les imports réels, le chargement des données, etc."
   ]
  },
  {
   "cell_type": "code",
   "execution_count": 4,
   "id": "22cc91cb",
   "metadata": {
    "execution": {
     "iopub.execute_input": "2025-09-01T06:56:28.736355Z",
     "iopub.status.busy": "2025-09-01T06:56:28.736198Z",
     "iopub.status.idle": "2025-09-01T06:56:29.046674Z",
     "shell.execute_reply": "2025-09-01T06:56:29.046118Z"
    },
    "papermill": {
     "duration": 0.313002,
     "end_time": "2025-09-01T06:56:29.047618",
     "exception": false,
     "start_time": "2025-09-01T06:56:28.734616",
     "status": "completed"
    },
    "tags": []
   },
   "outputs": [
    {
     "name": "stdout",
     "output_type": "stream",
     "text": [
      "CSV d'ordres écrit: out/orders_2025-09.csv\n"
     ]
    }
   ],
   "source": [
    "import os, pandas as pd\n",
    "os.makedirs(\"out\", exist_ok=True)\n",
    "pd.DataFrame({\"ordre\": [\"EXEMPLE\"], \"montant\": [800]}).to_csv(f\"out/orders_{JUSQUA}.csv\", index=False)\n",
    "print(\"CSV d'ordres écrit:\", f\"out/orders_{JUSQUA}.csv\")"
   ]
  }
 ],
 "metadata": {
  "kernelspec": {
   "display_name": "Python 3",
   "language": "python",
   "name": "python3"
  },
  "language_info": {
   "codemirror_mode": {
    "name": "ipython",
    "version": 3
   },
   "file_extension": ".py",
   "mimetype": "text/x-python",
   "name": "python",
   "nbconvert_exporter": "python",
   "pygments_lexer": "ipython3",
   "version": "3.11.13"
  },
  "papermill": {
   "default_parameters": {},
   "duration": 2.36063,
   "end_time": "2025-09-01T06:56:29.265330",
   "environment_variables": {},
   "exception": null,
   "input_path": "notebooks/Backtest_V10_4Univers.ipynb",
   "output_path": "out/out.ipynb",
   "parameters": {
    "DEPUIS": "2014-01",
    "EXECUTION_DAY": "first_business_day",
    "JUSQUA": "2025-09"
   },
   "start_time": "2025-09-01T06:56:26.904700",
   "version": "2.6.0"
  }
 },
 "nbformat": 4,
 "nbformat_minor": 5
}